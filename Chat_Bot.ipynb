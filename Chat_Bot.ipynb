{
  "nbformat": 4,
  "nbformat_minor": 0,
  "metadata": {
    "colab": {
      "provenance": [],
      "toc_visible": true,
      "authorship_tag": "ABX9TyPar7IHqLbSMSh7WwkkF4iq",
      "include_colab_link": true
    },
    "kernelspec": {
      "name": "python3",
      "display_name": "Python 3"
    },
    "language_info": {
      "name": "python"
    }
  },
  "cells": [
    {
      "cell_type": "markdown",
      "metadata": {
        "id": "view-in-github",
        "colab_type": "text"
      },
      "source": [
        "<a href=\"https://colab.research.google.com/github/MisterEvaristo/ChatBotProjeto/blob/main/Chat_Bot.ipynb\" target=\"_parent\"><img src=\"https://colab.research.google.com/assets/colab-badge.svg\" alt=\"Open In Colab\"/></a>"
      ]
    },
    {
      "cell_type": "markdown",
      "source": [
        "Instalando SDK do google"
      ],
      "metadata": {
        "id": "GIhm-nzKE6Mf"
      }
    },
    {
      "cell_type": "code",
      "execution_count": 1,
      "metadata": {
        "id": "l24FkxJ-FJjG"
      },
      "outputs": [],
      "source": [
        "!pip install -q -U google-generativeai"
      ]
    },
    {
      "cell_type": "markdown",
      "source": [
        "Colocando a api para ser acionada"
      ],
      "metadata": {
        "id": "Lbc7z717JjI9"
      }
    },
    {
      "cell_type": "code",
      "source": [
        "import google.generativeai as genai\n",
        "from google.colab import userdata\n",
        "api_key = userdata.get('secret_key')\n",
        "GOOGLE_API_KEY=api_key\n",
        "genai.configure(api_key=GOOGLE_API_KEY)"
      ],
      "metadata": {
        "id": "Yf1rAcoNFK9w"
      },
      "execution_count": 2,
      "outputs": []
    },
    {
      "cell_type": "markdown",
      "source": [
        "Listar os modelos disponíveis"
      ],
      "metadata": {
        "id": "TDcrSzm1FYEq"
      }
    },
    {
      "cell_type": "code",
      "source": [
        "for m in genai.list_models():\n",
        "  if 'generateContent' in m.supported_generation_methods:\n",
        "    print(m.name)"
      ],
      "metadata": {
        "colab": {
          "base_uri": "https://localhost:8080/",
          "height": 144
        },
        "id": "rYb6MMVEFS3Q",
        "outputId": "4eefdb4c-cb1a-45ee-89ab-1116b01a3e76"
      },
      "execution_count": 7,
      "outputs": [
        {
          "output_type": "stream",
          "name": "stdout",
          "text": [
            "models/gemini-1.0-pro\n",
            "models/gemini-1.0-pro-001\n",
            "models/gemini-1.0-pro-latest\n",
            "models/gemini-1.0-pro-vision-latest\n",
            "models/gemini-1.5-pro-latest\n",
            "models/gemini-pro\n",
            "models/gemini-pro-vision\n"
          ]
        }
      ]
    },
    {
      "cell_type": "markdown",
      "source": [
        "Parâmetros do Google Ai Studio"
      ],
      "metadata": {
        "id": "WuRwewO7Jra7"
      }
    },
    {
      "cell_type": "markdown",
      "source": [
        "Parâmetros de segurança"
      ],
      "metadata": {
        "id": "rFJfRRu3K4XF"
      }
    },
    {
      "cell_type": "markdown",
      "source": [
        "Inicializando o modelo"
      ],
      "metadata": {
        "id": "AuOtBA2AK9G3"
      }
    },
    {
      "cell_type": "code",
      "source": [
        "model = genai.GenerativeModel(model_name='gemini-1.0-pro')"
      ],
      "metadata": {
        "id": "drBIlGDtJLkk"
      },
      "execution_count": 17,
      "outputs": []
    },
    {
      "cell_type": "markdown",
      "source": [
        "Treinamento do modelo gerando conteúdo."
      ],
      "metadata": {
        "id": "A7ITpq4AMT0-"
      }
    },
    {
      "cell_type": "code",
      "source": [
        "response = model.generate_content(\"Criar listas de tarefas, definir lembretes e acompanhar o progresso com naturalidade. Resumir artigos, emails ou documentos longos em linguagem simples e concisa. Responder perguntas complexas sobre diversos assuntos, acessando e processando informações de diversas fontes.Escrever poemas, histórias, scripts, e-mails, cartas e até mesmo código, de acordo com suas instruções.\")\n",
        "print(response.text)"
      ],
      "metadata": {
        "colab": {
          "base_uri": "https://localhost:8080/",
          "height": 362
        },
        "id": "O0BXKKkiMYGP",
        "outputId": "eb6ce951-e72b-4575-a2e8-81eb5332aaf9"
      },
      "execution_count": 18,
      "outputs": [
        {
          "output_type": "stream",
          "name": "stdout",
          "text": [
            "**Assistente de Produtividade**\n",
            "\n",
            "* Criação de listas de tarefas\n",
            "* Definição de lembretes\n",
            "* Rastreamento de progresso\n",
            "\n",
            "**Assistente de Resumo**\n",
            "\n",
            "* Resumo de artigos, e-mails e documentos longos em linguagem simples e concisa\n",
            "\n",
            "**Assistente de Pesquisa**\n",
            "\n",
            "* Respostas a perguntas complexas sobre vários tópicos\n",
            "* Acesso e processamento de informações de várias fontes\n",
            "\n",
            "**Assistente de Escrita Criativa**\n",
            "\n",
            "* Criação de poemas, histórias e roteiros\n",
            "* Escrita de e-mails, cartas e códigos de acordo com as instruções\n"
          ]
        }
      ]
    },
    {
      "cell_type": "markdown",
      "source": [],
      "metadata": {
        "id": "jxF7odBjE4cb"
      }
    },
    {
      "cell_type": "markdown",
      "source": [
        "Criação do chat"
      ],
      "metadata": {
        "id": "_k9buzK8aRLM"
      }
    },
    {
      "cell_type": "code",
      "source": [
        "chat = model.start_chat(history=[])"
      ],
      "metadata": {
        "id": "eKg8mdJ6aTW7"
      },
      "execution_count": 19,
      "outputs": []
    },
    {
      "cell_type": "code",
      "source": [
        "prompt = input ('Esperando prompt ')\n",
        "\n",
        "while prompt != 'Fim':\n",
        "  response = chat.send_message(prompt)\n",
        "  print('Resposta: ', response.text, '\\n')\n",
        "  prompt = input('Esperando prompt: ')\n"
      ],
      "metadata": {
        "colab": {
          "base_uri": "https://localhost:8080/",
          "height": 906
        },
        "id": "GKd0-HJ9bDfk",
        "outputId": "2822fd34-2bad-49de-87e3-20eec464469b"
      },
      "execution_count": 20,
      "outputs": [
        {
          "name": "stdout",
          "output_type": "stream",
          "text": [
            "Esperando prompt Crie uma lista de tarefas para fazer no dia-a-dia de um assistente de marketing\n",
            "Resposta:  **Tarefas Diárias de um Assistente de Marketing**\n",
            "\n",
            "**Gerenciamento de Mídias Sociais:**\n",
            "\n",
            "* Monitorar e responder menções e mensagens nas mídias sociais\n",
            "* Agendar e publicar conteúdo nas mídias sociais\n",
            "* Realizar análises de mídia social e relatórios\n",
            "* Identificar e se envolver com influenciadores\n",
            "\n",
            "**Gerenciamento de Conteúdo:**\n",
            "\n",
            "* Criar e editar conteúdo para site, blog e outras plataformas\n",
            "* Otimizar o conteúdo para mecanismos de pesquisa (SEO)\n",
            "* Coordenar com escritores e designers para produzir conteúdo de alta qualidade\n",
            "\n",
            "**Gestão de Campanhas de Marketing:**\n",
            "\n",
            "* Auxiliar no desenvolvimento e execução de campanhas de marketing\n",
            "* Monitorar e analisar o desempenho da campanha\n",
            "* Ajustar as campanhas para otimizar os resultados\n",
            "\n",
            "**Atendimento ao Cliente:**\n",
            "\n",
            "* Responder a consultas e reclamações de clientes\n",
            "* Fornecer suporte e assistência em produtos e serviços\n",
            "* Processar pedidos e transações\n",
            "\n",
            "**Pesquisa de Mercado:**\n",
            "\n",
            "* Realizar pesquisas de mercado para identificar tendências e insights do consumidor\n",
            "* Analisar dados de pesquisa e fornecer recomendações\n",
            "* Ficar atualizado com as melhores práticas e tendências da indústria\n",
            "\n",
            "**Assistência Administrativa:**\n",
            "\n",
            "* Gerenciar calendários e agendar compromissos\n",
            "* Preparar apresentações e materiais de marketing\n",
            "* Manter o banco de dados do cliente e os registros de contato\n",
            "* Realizar tarefas administrativas gerais\n",
            "\n",
            "**Outras Tarefas:**\n",
            "\n",
            "* Fornecer suporte à equipe de marketing\n",
            "* Participar de reuniões e colaborar com colegas\n",
            "* Ficar atualizado com as ferramentas e tecnologias de marketing\n",
            "* Buscar oportunidades de desenvolvimento profissional \n",
            "\n",
            "Esperando prompt: Fim\n"
          ]
        }
      ]
    },
    {
      "cell_type": "markdown",
      "source": [
        "Melhorando a visualização"
      ],
      "metadata": {
        "id": "vHKX3ArZdOUp"
      }
    },
    {
      "cell_type": "code",
      "source": [
        "#Código disponível em https://ai.google.dev/tutorials/python_quickstart#import_packages\n",
        "import textwrap\n",
        "\n",
        "import google.generativeai as genai\n",
        "\n",
        "from IPython.display import display\n",
        "from IPython.display import Markdown\n",
        "\n",
        "\n",
        "def to_markdown(text):\n",
        "  text = text.replace('•', '  *')\n",
        "  return Markdown(textwrap.indent(text, '> ', predicate=lambda _: True))\n",
        "\n",
        "#Imprimindo o histórico\n",
        "for message in chat.history:\n",
        "  display(to_markdown(f'**{message.role}**: {message.parts[0].text}'))\n",
        "  print('-------------------------------------------')"
      ],
      "metadata": {
        "colab": {
          "base_uri": "https://localhost:8080/",
          "height": 766
        },
        "id": "l9YNUzXbdRkK",
        "outputId": "9cc82749-c684-49f6-ec20-d617741a694f"
      },
      "execution_count": 21,
      "outputs": [
        {
          "output_type": "display_data",
          "data": {
            "text/plain": [
              "<IPython.core.display.Markdown object>"
            ],
            "text/markdown": "> **user**: Crie uma lista de tarefas para fazer no dia-a-dia de um assistente de marketing"
          },
          "metadata": {}
        },
        {
          "output_type": "stream",
          "name": "stdout",
          "text": [
            "-------------------------------------------\n"
          ]
        },
        {
          "output_type": "display_data",
          "data": {
            "text/plain": [
              "<IPython.core.display.Markdown object>"
            ],
            "text/markdown": "> **model**: **Tarefas Diárias de um Assistente de Marketing**\n> \n> **Gerenciamento de Mídias Sociais:**\n> \n> * Monitorar e responder menções e mensagens nas mídias sociais\n> * Agendar e publicar conteúdo nas mídias sociais\n> * Realizar análises de mídia social e relatórios\n> * Identificar e se envolver com influenciadores\n> \n> **Gerenciamento de Conteúdo:**\n> \n> * Criar e editar conteúdo para site, blog e outras plataformas\n> * Otimizar o conteúdo para mecanismos de pesquisa (SEO)\n> * Coordenar com escritores e designers para produzir conteúdo de alta qualidade\n> \n> **Gestão de Campanhas de Marketing:**\n> \n> * Auxiliar no desenvolvimento e execução de campanhas de marketing\n> * Monitorar e analisar o desempenho da campanha\n> * Ajustar as campanhas para otimizar os resultados\n> \n> **Atendimento ao Cliente:**\n> \n> * Responder a consultas e reclamações de clientes\n> * Fornecer suporte e assistência em produtos e serviços\n> * Processar pedidos e transações\n> \n> **Pesquisa de Mercado:**\n> \n> * Realizar pesquisas de mercado para identificar tendências e insights do consumidor\n> * Analisar dados de pesquisa e fornecer recomendações\n> * Ficar atualizado com as melhores práticas e tendências da indústria\n> \n> **Assistência Administrativa:**\n> \n> * Gerenciar calendários e agendar compromissos\n> * Preparar apresentações e materiais de marketing\n> * Manter o banco de dados do cliente e os registros de contato\n> * Realizar tarefas administrativas gerais\n> \n> **Outras Tarefas:**\n> \n> * Fornecer suporte à equipe de marketing\n> * Participar de reuniões e colaborar com colegas\n> * Ficar atualizado com as ferramentas e tecnologias de marketing\n> * Buscar oportunidades de desenvolvimento profissional"
          },
          "metadata": {}
        },
        {
          "output_type": "stream",
          "name": "stdout",
          "text": [
            "-------------------------------------------\n"
          ]
        }
      ]
    }
  ]
}